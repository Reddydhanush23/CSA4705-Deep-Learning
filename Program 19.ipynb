{
  "nbformat": 4,
  "nbformat_minor": 0,
  "metadata": {
    "colab": {
      "provenance": [],
      "authorship_tag": "ABX9TyOjKxQvzCAvUwdJyQl2y9rQ",
      "include_colab_link": true
    },
    "kernelspec": {
      "name": "python3",
      "display_name": "Python 3"
    },
    "language_info": {
      "name": "python"
    }
  },
  "cells": [
    {
      "cell_type": "markdown",
      "metadata": {
        "id": "view-in-github",
        "colab_type": "text"
      },
      "source": [
        "<a href=\"https://colab.research.google.com/github/Reddydhanush23/CSA4705-Deep-Learning/blob/main/Program%2019.ipynb\" target=\"_parent\"><img src=\"https://colab.research.google.com/assets/colab-badge.svg\" alt=\"Open In Colab\"/></a>"
      ]
    },
    {
      "cell_type": "code",
      "source": [
        "import numpy as np\n",
        "from tensorflow.keras.layers import Input, Conv2D, MaxPooling2D, UpSampling2D, concatenate\n",
        "from tensorflow.keras.models import Model\n",
        "train_images = np.random.rand(10, 128, 128, 1)\n",
        "train_masks = np.random.randint(0, 2, (10, 128, 128, 1))\n",
        "def unet(input_size=(128,128,1)):\n",
        "    inputs = Input(input_size)\n",
        "    c1 = Conv2D(64, 3, activation='relu', padding='same')(inputs)\n",
        "    c1 = Conv2D(64, 3, activation='relu', padding='same')(c1)\n",
        "    p1 = MaxPooling2D(2)(c1)\n",
        "\n",
        "    c2 = Conv2D(128, 3, activation='relu', padding='same')(p1)\n",
        "    c2 = Conv2D(128, 3, activation='relu', padding='same')(c2)\n",
        "    p2 = MaxPooling2D(2)(c2)\n",
        "\n",
        "    c3 = Conv2D(256, 3, activation='relu', padding='same')(p2)\n",
        "    c3 = Conv2D(256, 3, activation='relu', padding='same')(c3)\n",
        "\n",
        "    u2 = UpSampling2D(2)(c3)\n",
        "    u2 = concatenate([u2, c2])\n",
        "    c4 = Conv2D(128, 3, activation='relu', padding='same')(u2)\n",
        "    c4 = Conv2D(128, 3, activation='relu', padding='same')(c4)\n",
        "\n",
        "    u1 = UpSampling2D(2)(c4)\n",
        "    u1 = concatenate([u1, c1])\n",
        "    c5 = Conv2D(64, 3, activation='relu', padding='same')(u1)\n",
        "    c5 = Conv2D(64, 3, activation='relu', padding='same')(c5)\n",
        "\n",
        "    outputs = Conv2D(1, 1, activation='sigmoid')(c5)\n",
        "    model = Model(inputs=[inputs], outputs=[outputs])\n",
        "    model.compile(optimizer='adam', loss='binary_crossentropy', metrics=['accuracy'])\n",
        "    return model\n",
        "\n",
        "model = unet()\n",
        "history = model.fit(train_images, train_masks, epochs=5, batch_size=2, validation_split=0.2)\n",
        "preds = model.predict(train_images)\n",
        "print(\"Predicted mask shape:\", preds.shape)\n"
      ],
      "metadata": {
        "colab": {
          "base_uri": "https://localhost:8080/"
        },
        "id": "00WCs8FbZnrh",
        "outputId": "47c5a19c-8685-4b03-aa6d-e3fbd6637e2e"
      },
      "execution_count": 50,
      "outputs": [
        {
          "output_type": "stream",
          "name": "stdout",
          "text": [
            "Epoch 1/5\n",
            "\u001b[1m4/4\u001b[0m \u001b[32m━━━━━━━━━━━━━━━━━━━━\u001b[0m\u001b[37m\u001b[0m \u001b[1m16s\u001b[0m 3s/step - accuracy: 0.4992 - loss: 0.6936 - val_accuracy: 0.4961 - val_loss: 0.6933\n",
            "Epoch 2/5\n",
            "\u001b[1m4/4\u001b[0m \u001b[32m━━━━━━━━━━━━━━━━━━━━\u001b[0m\u001b[37m\u001b[0m \u001b[1m20s\u001b[0m 3s/step - accuracy: 0.4978 - loss: 0.6932 - val_accuracy: 0.5023 - val_loss: 0.6931\n",
            "Epoch 3/5\n",
            "\u001b[1m4/4\u001b[0m \u001b[32m━━━━━━━━━━━━━━━━━━━━\u001b[0m\u001b[37m\u001b[0m \u001b[1m20s\u001b[0m 3s/step - accuracy: 0.4997 - loss: 0.6931 - val_accuracy: 0.5034 - val_loss: 0.6931\n",
            "Epoch 4/5\n",
            "\u001b[1m4/4\u001b[0m \u001b[32m━━━━━━━━━━━━━━━━━━━━\u001b[0m\u001b[37m\u001b[0m \u001b[1m20s\u001b[0m 2s/step - accuracy: 0.5039 - loss: 0.6931 - val_accuracy: 0.5021 - val_loss: 0.6931\n",
            "Epoch 5/5\n",
            "\u001b[1m4/4\u001b[0m \u001b[32m━━━━━━━━━━━━━━━━━━━━\u001b[0m\u001b[37m\u001b[0m \u001b[1m11s\u001b[0m 3s/step - accuracy: 0.5025 - loss: 0.6931 - val_accuracy: 0.5039 - val_loss: 0.6931\n",
            "\u001b[1m1/1\u001b[0m \u001b[32m━━━━━━━━━━━━━━━━━━━━\u001b[0m\u001b[37m\u001b[0m \u001b[1m3s\u001b[0m 3s/step\n",
            "Predicted mask shape: (10, 128, 128, 1)\n"
          ]
        }
      ]
    }
  ]
}