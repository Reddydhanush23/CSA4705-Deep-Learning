{
  "nbformat": 4,
  "nbformat_minor": 0,
  "metadata": {
    "colab": {
      "provenance": [],
      "authorship_tag": "ABX9TyOlzP5K2O7TQRoOqxUPQzKg",
      "include_colab_link": true
    },
    "kernelspec": {
      "name": "python3",
      "display_name": "Python 3"
    },
    "language_info": {
      "name": "python"
    }
  },
  "cells": [
    {
      "cell_type": "markdown",
      "metadata": {
        "id": "view-in-github",
        "colab_type": "text"
      },
      "source": [
        "<a href=\"https://colab.research.google.com/github/Reddydhanush23/CSA4705-Deep-Learning/blob/main/Program%2019.ipynb\" target=\"_parent\"><img src=\"https://colab.research.google.com/assets/colab-badge.svg\" alt=\"Open In Colab\"/></a>"
      ]
    },
    {
      "cell_type": "code",
      "source": [
        "import numpy as np\n",
        "from sklearn.model_selection import train_test_split\n",
        "from sklearn.datasets import load_iris\n",
        "from sklearn.preprocessing import StandardScaler\n",
        "from sklearn.metrics import accuracy_score\n",
        "from sklearn.linear_model import LogisticRegression\n",
        "from sklearn.neural_network import BernoulliRBM\n",
        "import tensorflow as tf\n",
        "from tensorflow.keras.models import Sequential\n",
        "from tensorflow.keras.layers import SimpleRNN, LSTM, Dense\n",
        "data = load_iris()\n",
        "X = data.data\n",
        "y = (data.target != 0).astype(int)\n",
        "scaler = StandardScaler()\n",
        "X = scaler.fit_transform(X)\n",
        "X_train, X_test, y_train, y_test = train_test_split(X, y, test_size=0.3, random_state=42)\n",
        "rbm = BernoulliRBM(n_components=10, learning_rate=0.01, n_iter=50, random_state=42)\n",
        "rbm.fit(X_train)\n",
        "X_train_rbm = rbm.transform(X_train)\n",
        "X_test_rbm = rbm.transform(X_test)\n",
        "clf = LogisticRegression()\n",
        "clf.fit(X_train_rbm, y_train)\n",
        "y_pred_rbm = clf.predict(X_test_rbm)\n",
        "print(\"RBM + Logistic Regression Accuracy:\", accuracy_score(y_test, y_pred_rbm))\n",
        "X_train_rnn = X_train.reshape((X_train.shape[0], 1, X_train.shape[1]))\n",
        "X_test_rnn = X_test.reshape((X_test.shape[0], 1, X_test.shape[1]))\n",
        "rnn = Sequential()\n",
        "rnn.add(SimpleRNN(32, input_shape=(1, X_train.shape[1])))\n",
        "rnn.add(Dense(1, activation='sigmoid'))\n",
        "rnn.compile(optimizer='adam', loss='binary_crossentropy', metrics=['accuracy'])\n",
        "rnn.fit(X_train_rnn, y_train, epochs=20, batch_size=8, verbose=0)\n",
        "print(\"RNN Accuracy:\", rnn.evaluate(X_test_rnn, y_test, verbose=0)[1])\n",
        "lstm = Sequential()\n",
        "lstm.add(LSTM(32, input_shape=(1, X_train.shape[1])))\n",
        "lstm.add(Dense(1, activation='sigmoid'))\n",
        "lstm.compile(optimizer='adam', loss='binary_crossentropy', metrics=['accuracy'])\n",
        "lstm.fit(X_train_rnn, y_train, epochs=20, batch_size=8, verbose=0)\n",
        "print(\"LSTM Accuracy:\", lstm.evaluate(X_test_rnn, y_test, verbose=0)[1])"
      ],
      "metadata": {
        "colab": {
          "base_uri": "https://localhost:8080/"
        },
        "id": "SLQ1I3P6a3-A",
        "outputId": "5f7ad454-999a-4e81-b6fd-5509cd43f5c2"
      },
      "execution_count": 53,
      "outputs": [
        {
          "output_type": "stream",
          "name": "stdout",
          "text": [
            "RBM + Logistic Regression Accuracy: 1.0\n"
          ]
        },
        {
          "output_type": "stream",
          "name": "stderr",
          "text": [
            "/usr/local/lib/python3.12/dist-packages/keras/src/layers/rnn/rnn.py:199: UserWarning: Do not pass an `input_shape`/`input_dim` argument to a layer. When using Sequential models, prefer using an `Input(shape)` object as the first layer in the model instead.\n",
            "  super().__init__(**kwargs)\n"
          ]
        },
        {
          "output_type": "stream",
          "name": "stdout",
          "text": [
            "RNN Accuracy: 1.0\n",
            "LSTM Accuracy: 1.0\n"
          ]
        }
      ]
    }
  ]
}