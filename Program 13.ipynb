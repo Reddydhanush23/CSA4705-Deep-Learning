{
  "nbformat": 4,
  "nbformat_minor": 0,
  "metadata": {
    "colab": {
      "provenance": [],
      "authorship_tag": "ABX9TyMCFA5AoYqQ3cnjJTxXmgoM",
      "include_colab_link": true
    },
    "kernelspec": {
      "name": "python3",
      "display_name": "Python 3"
    },
    "language_info": {
      "name": "python"
    }
  },
  "cells": [
    {
      "cell_type": "markdown",
      "metadata": {
        "id": "view-in-github",
        "colab_type": "text"
      },
      "source": [
        "<a href=\"https://colab.research.google.com/github/Reddydhanush23/CSA4705-Deep-Learning/blob/main/Program%2013.ipynb\" target=\"_parent\"><img src=\"https://colab.research.google.com/assets/colab-badge.svg\" alt=\"Open In Colab\"/></a>"
      ]
    },
    {
      "cell_type": "code",
      "source": [
        "from sklearn.datasets import load_iris\n",
        "from sklearn.model_selection import train_test_split\n",
        "from sklearn.tree import DecisionTreeClassifier\n",
        "from sklearn.metrics import accuracy_score, precision_score, recall_score, f1_score\n",
        "\n",
        "data = load_iris()\n",
        "X = data.data\n",
        "y = data.target\n",
        "X_train, X_test, y_train, y_test = train_test_split(X, y, test_size=0.2, random_state=42)\n",
        "\n",
        "dt = DecisionTreeClassifier(random_state=42)\n",
        "dt.fit(X_train, y_train)\n",
        "y_pred_dt = dt.predict(X_test)\n",
        "\n",
        "acc_dt = accuracy_score(y_test, y_pred_dt)\n",
        "prec_dt = precision_score(y_test, y_pred_dt, average='macro')\n",
        "rec_dt = recall_score(y_test, y_pred_dt, average='macro')\n",
        "f1_dt = f1_score(y_test, y_pred_dt, average='macro')\n",
        "\n",
        "print(\"Decision Tree Accuracy:\", acc_dt)\n",
        "print(\"Precision:\", prec_dt)\n",
        "print(\"Recall:\", rec_dt)\n",
        "print(\"F1 Score:\", f1_dt)\n"
      ],
      "metadata": {
        "colab": {
          "base_uri": "https://localhost:8080/"
        },
        "id": "UNOyvZ9fUNvK",
        "outputId": "3eb91b8d-3b62-4ec7-ece7-4ac953772b31"
      },
      "execution_count": 36,
      "outputs": [
        {
          "output_type": "stream",
          "name": "stdout",
          "text": [
            "Decision Tree Accuracy: 1.0\n",
            "Precision: 1.0\n",
            "Recall: 1.0\n",
            "F1 Score: 1.0\n"
          ]
        }
      ]
    }
  ]
}