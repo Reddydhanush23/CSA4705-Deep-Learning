{
  "nbformat": 4,
  "nbformat_minor": 0,
  "metadata": {
    "colab": {
      "provenance": [],
      "authorship_tag": "ABX9TyMqJU3vaPLHyA0VTIBzZW4R",
      "include_colab_link": true
    },
    "kernelspec": {
      "name": "python3",
      "display_name": "Python 3"
    },
    "language_info": {
      "name": "python"
    }
  },
  "cells": [
    {
      "cell_type": "markdown",
      "metadata": {
        "id": "view-in-github",
        "colab_type": "text"
      },
      "source": [
        "<a href=\"https://colab.research.google.com/github/Reddydhanush23/CSA4705-Deep-Learning/blob/main/Program%2018.ipynb\" target=\"_parent\"><img src=\"https://colab.research.google.com/assets/colab-badge.svg\" alt=\"Open In Colab\"/></a>"
      ]
    },
    {
      "cell_type": "code",
      "source": [
        "batch_sizes = [16, 32]\n",
        "optimizers = [tf.keras.optimizers.Adam(), tf.keras.optimizers.SGD()]\n",
        "activations = ['relu', 'tanh']\n",
        "learning_rates = [0.001, 0.01]\n",
        "\n",
        "for batch in batch_sizes:\n",
        "    for opt in optimizers:\n",
        "        for act in activations:\n",
        "            for lr in learning_rates:\n",
        "                opt.learning_rate = lr\n",
        "                model = Sequential([\n",
        "                    Conv2D(32, (3,3), activation=act, input_shape=(64,64,3)),\n",
        "                    MaxPooling2D(2,2),\n",
        "                    Conv2D(64, (3,3), activation=act),\n",
        "                    MaxPooling2D(2,2),\n",
        "                    Flatten(),\n",
        "                    Dense(128, activation=act),\n",
        "                    Dense(2, activation='softmax')\n",
        "                ])\n",
        "                model.compile(optimizer=opt, loss='categorical_crossentropy', metrics=['accuracy'])\n",
        "                print(f\"Training: batch={batch}, optimizer={type(opt).__name__}, activation={act}, lr={lr}\")\n",
        "                # model.fit(train_generator, epochs=5, batch_size=batch)  # uncomment when train_generator is ready\n"
      ],
      "metadata": {
        "colab": {
          "base_uri": "https://localhost:8080/"
        },
        "id": "VlZmj-lNZCGf",
        "outputId": "00e87cc8-9ef6-45f7-c1c4-981f06c74677"
      },
      "execution_count": 47,
      "outputs": [
        {
          "output_type": "stream",
          "name": "stdout",
          "text": [
            "Training: batch=16, optimizer=Adam, activation=relu, lr=0.001\n",
            "Training: batch=16, optimizer=Adam, activation=relu, lr=0.01\n",
            "Training: batch=16, optimizer=Adam, activation=tanh, lr=0.001\n",
            "Training: batch=16, optimizer=Adam, activation=tanh, lr=0.01\n",
            "Training: batch=16, optimizer=SGD, activation=relu, lr=0.001\n",
            "Training: batch=16, optimizer=SGD, activation=relu, lr=0.01\n",
            "Training: batch=16, optimizer=SGD, activation=tanh, lr=0.001\n",
            "Training: batch=16, optimizer=SGD, activation=tanh, lr=0.01\n",
            "Training: batch=32, optimizer=Adam, activation=relu, lr=0.001\n",
            "Training: batch=32, optimizer=Adam, activation=relu, lr=0.01\n",
            "Training: batch=32, optimizer=Adam, activation=tanh, lr=0.001\n",
            "Training: batch=32, optimizer=Adam, activation=tanh, lr=0.01\n",
            "Training: batch=32, optimizer=SGD, activation=relu, lr=0.001\n",
            "Training: batch=32, optimizer=SGD, activation=relu, lr=0.01\n",
            "Training: batch=32, optimizer=SGD, activation=tanh, lr=0.001\n",
            "Training: batch=32, optimizer=SGD, activation=tanh, lr=0.01\n"
          ]
        }
      ]
    }
  ]
}